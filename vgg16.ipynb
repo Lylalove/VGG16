{
 "cells": [
  {
   "cell_type": "markdown",
   "metadata": {
    "id": "B6pOHLJF1kCE"
   },
   "source": [
    "## VGG 16 layer Implementation\n",
    "based on VERY DEEP CONVOLUTIONAL NETWORKS FOR LARGE-SCALE IMAGE RECOGNITION paper"
   ]
  },
  {
   "cell_type": "markdown",
   "metadata": {
    "id": "QGOmnamD1kCJ"
   },
   "source": [
    "module 짜고 training -> test 짜기"
   ]
  },
  {
   "cell_type": "markdown",
   "metadata": {
    "id": "LdHGSkbL1kCK"
   },
   "source": [
    "1. preprocessing \n",
    "2. convolutional layers\n",
    "3. FC layer\n",
    "4. soft-max layer"
   ]
  },
  {
   "cell_type": "code",
   "execution_count": 4,
   "metadata": {},
   "outputs": [
    {
     "name": "stdout",
     "output_type": "stream",
     "text": [
      "Requirement already satisfied: scipy in /Library/Frameworks/Python.framework/Versions/3.8/lib/python3.8/site-packages (1.4.1)\n",
      "Requirement already satisfied: numpy>=1.13.3 in /Library/Frameworks/Python.framework/Versions/3.8/lib/python3.8/site-packages (from scipy) (1.18.5)\n",
      "\u001b[33mWARNING: You are using pip version 20.3.3; however, version 21.0.1 is available.\n",
      "You should consider upgrading via the '/Library/Frameworks/Python.framework/Versions/3.8/bin/python3 -m pip install --upgrade pip' command.\u001b[0m\n"
     ]
    }
   ],
   "source": [
    "!pip install scipy"
   ]
  },
  {
   "cell_type": "code",
   "execution_count": 5,
   "metadata": {
    "id": "omOgMviZ1kCK"
   },
   "outputs": [],
   "source": [
    "# import all needed modules \n",
    "import torch, torch.nn as nn, torch.nn.functional as F\n",
    "import torchvision.datasets as dsets\n",
    "import torch.optim as optim\n",
    "import torch.utils as utils\n",
    "import random\n",
    "import torchvision.transforms as transforms\n",
    "import numpy as np\n",
    "import PIL\n",
    "from torch.utils.data.sampler import SubsetRandomSampler"
   ]
  },
  {
   "cell_type": "markdown",
   "metadata": {
    "id": "W1796BQW1kCL"
   },
   "source": [
    "### download ImageNet dataset"
   ]
  },
  {
   "cell_type": "code",
   "execution_count": 6,
   "metadata": {},
   "outputs": [],
   "source": [
    "batch_size = 256\n",
    "validation_ratio = 0.1\n",
    "shuffle_dataset = True"
   ]
  },
  {
   "cell_type": "code",
   "execution_count": 7,
   "metadata": {
    "id": "p7O8rrTF1kCM"
   },
   "outputs": [],
   "source": [
    "device = 'cuda' if torch.cuda.is_available() else 'cpu'\n",
    "random.seed(111) # random seed\n",
    "torch.manual_seed(777)\n",
    "if device == 'cuda':\n",
    "    torch.cuda.manual_seed_all(777)"
   ]
  },
  {
   "cell_type": "code",
   "execution_count": 9,
   "metadata": {},
   "outputs": [],
   "source": [
    "transform_train = transforms.Compose([\n",
    "#     transforms.Resize((224,224)),\n",
    "    transforms.RandomCrop((224,224)),\n",
    "    transforms.RandomHorizontalFlip(),\n",
    "    transforms.ToTensor(),\n",
    "    transforms.Normalize(\n",
    "        mean = [0.485, 0.456, 0.406],\n",
    "        std = [0.229, 0.224, 0.225])])\n",
    "\n",
    "# transform_valid = transforms.Compose([\n",
    "#     transforms.ToTensor(),\n",
    "#     transforms.Normalize(\n",
    "#         mean = [0.485, 0.456, 0.406],\n",
    "#         std = [0.229, 0.224, 0.225])])\n",
    "\n",
    "transform_test = transforms.Compose([\n",
    "    transforms.ToTensor(),\n",
    "    transforms.Normalize(\n",
    "        mean = [0.485, 0.456, 0.406],\n",
    "        std = [0.229, 0.224, 0.225])])"
   ]
  },
  {
   "cell_type": "code",
   "execution_count": 11,
   "metadata": {
    "id": "a31Jobns1kCL"
   },
   "outputs": [
    {
     "name": "stderr",
     "output_type": "stream",
     "text": [
      "/Library/Frameworks/Python.framework/Versions/3.8/lib/python3.8/site-packages/torchvision/datasets/imagenet.py:49: RuntimeWarning: The use of the download flag is deprecated, since the dataset is no longer publicly accessible.\n",
      "  warnings.warn(msg, RuntimeWarning)\n"
     ]
    },
    {
     "ename": "RuntimeError",
     "evalue": "The archive ILSVRC2012_devkit_t12.tar.gz is not present in the root directory or is corrupted. You need to download it externally and place it in ./data.",
     "output_type": "error",
     "traceback": [
      "\u001b[0;31m---------------------------------------------------------------------------\u001b[0m",
      "\u001b[0;31mRuntimeError\u001b[0m                              Traceback (most recent call last)",
      "\u001b[0;32m<ipython-input-11-c95642be981d>\u001b[0m in \u001b[0;36m<module>\u001b[0;34m\u001b[0m\n\u001b[1;32m      1\u001b[0m \u001b[0;31m# Imagenet Dataset\u001b[0m\u001b[0;34m\u001b[0m\u001b[0;34m\u001b[0m\u001b[0;34m\u001b[0m\u001b[0m\n\u001b[1;32m      2\u001b[0m \u001b[0mpath\u001b[0m \u001b[0;34m=\u001b[0m \u001b[0;34m'./data'\u001b[0m \u001b[0;31m# data folder\u001b[0m\u001b[0;34m\u001b[0m\u001b[0;34m\u001b[0m\u001b[0m\n\u001b[0;32m----> 3\u001b[0;31m trainset = dsets.ImageNet(root=path, train=True,\n\u001b[0m\u001b[1;32m      4\u001b[0m                                transform=transform_train, download=False)\n\u001b[1;32m      5\u001b[0m \u001b[0;31m# validset = dsets.ImageNet(root=path, train=True,\u001b[0m\u001b[0;34m\u001b[0m\u001b[0;34m\u001b[0m\u001b[0;34m\u001b[0m\u001b[0m\n",
      "\u001b[0;32m/Library/Frameworks/Python.framework/Versions/3.8/lib/python3.8/site-packages/torchvision/datasets/imagenet.py\u001b[0m in \u001b[0;36m__init__\u001b[0;34m(self, root, split, download, **kwargs)\u001b[0m\n\u001b[1;32m     52\u001b[0m         \u001b[0mself\u001b[0m\u001b[0;34m.\u001b[0m\u001b[0msplit\u001b[0m \u001b[0;34m=\u001b[0m \u001b[0mverify_str_arg\u001b[0m\u001b[0;34m(\u001b[0m\u001b[0msplit\u001b[0m\u001b[0;34m,\u001b[0m \u001b[0;34m\"split\"\u001b[0m\u001b[0;34m,\u001b[0m \u001b[0;34m(\u001b[0m\u001b[0;34m\"train\"\u001b[0m\u001b[0;34m,\u001b[0m \u001b[0;34m\"val\"\u001b[0m\u001b[0;34m)\u001b[0m\u001b[0;34m)\u001b[0m\u001b[0;34m\u001b[0m\u001b[0;34m\u001b[0m\u001b[0m\n\u001b[1;32m     53\u001b[0m \u001b[0;34m\u001b[0m\u001b[0m\n\u001b[0;32m---> 54\u001b[0;31m         \u001b[0mself\u001b[0m\u001b[0;34m.\u001b[0m\u001b[0mparse_archives\u001b[0m\u001b[0;34m(\u001b[0m\u001b[0;34m)\u001b[0m\u001b[0;34m\u001b[0m\u001b[0;34m\u001b[0m\u001b[0m\n\u001b[0m\u001b[1;32m     55\u001b[0m         \u001b[0mwnid_to_classes\u001b[0m \u001b[0;34m=\u001b[0m \u001b[0mload_meta_file\u001b[0m\u001b[0;34m(\u001b[0m\u001b[0mself\u001b[0m\u001b[0;34m.\u001b[0m\u001b[0mroot\u001b[0m\u001b[0;34m)\u001b[0m\u001b[0;34m[\u001b[0m\u001b[0;36m0\u001b[0m\u001b[0;34m]\u001b[0m\u001b[0;34m\u001b[0m\u001b[0;34m\u001b[0m\u001b[0m\n\u001b[1;32m     56\u001b[0m \u001b[0;34m\u001b[0m\u001b[0m\n",
      "\u001b[0;32m/Library/Frameworks/Python.framework/Versions/3.8/lib/python3.8/site-packages/torchvision/datasets/imagenet.py\u001b[0m in \u001b[0;36mparse_archives\u001b[0;34m(self)\u001b[0m\n\u001b[1;32m     67\u001b[0m     \u001b[0;32mdef\u001b[0m \u001b[0mparse_archives\u001b[0m\u001b[0;34m(\u001b[0m\u001b[0mself\u001b[0m\u001b[0;34m)\u001b[0m\u001b[0;34m:\u001b[0m\u001b[0;34m\u001b[0m\u001b[0;34m\u001b[0m\u001b[0m\n\u001b[1;32m     68\u001b[0m         \u001b[0;32mif\u001b[0m \u001b[0;32mnot\u001b[0m \u001b[0mcheck_integrity\u001b[0m\u001b[0;34m(\u001b[0m\u001b[0mos\u001b[0m\u001b[0;34m.\u001b[0m\u001b[0mpath\u001b[0m\u001b[0;34m.\u001b[0m\u001b[0mjoin\u001b[0m\u001b[0;34m(\u001b[0m\u001b[0mself\u001b[0m\u001b[0;34m.\u001b[0m\u001b[0mroot\u001b[0m\u001b[0;34m,\u001b[0m \u001b[0mMETA_FILE\u001b[0m\u001b[0;34m)\u001b[0m\u001b[0;34m)\u001b[0m\u001b[0;34m:\u001b[0m\u001b[0;34m\u001b[0m\u001b[0;34m\u001b[0m\u001b[0m\n\u001b[0;32m---> 69\u001b[0;31m             \u001b[0mparse_devkit_archive\u001b[0m\u001b[0;34m(\u001b[0m\u001b[0mself\u001b[0m\u001b[0;34m.\u001b[0m\u001b[0mroot\u001b[0m\u001b[0;34m)\u001b[0m\u001b[0;34m\u001b[0m\u001b[0;34m\u001b[0m\u001b[0m\n\u001b[0m\u001b[1;32m     70\u001b[0m \u001b[0;34m\u001b[0m\u001b[0m\n\u001b[1;32m     71\u001b[0m         \u001b[0;32mif\u001b[0m \u001b[0;32mnot\u001b[0m \u001b[0mos\u001b[0m\u001b[0;34m.\u001b[0m\u001b[0mpath\u001b[0m\u001b[0;34m.\u001b[0m\u001b[0misdir\u001b[0m\u001b[0;34m(\u001b[0m\u001b[0mself\u001b[0m\u001b[0;34m.\u001b[0m\u001b[0msplit_folder\u001b[0m\u001b[0;34m)\u001b[0m\u001b[0;34m:\u001b[0m\u001b[0;34m\u001b[0m\u001b[0;34m\u001b[0m\u001b[0m\n",
      "\u001b[0;32m/Library/Frameworks/Python.framework/Versions/3.8/lib/python3.8/site-packages/torchvision/datasets/imagenet.py\u001b[0m in \u001b[0;36mparse_devkit_archive\u001b[0;34m(root, file)\u001b[0m\n\u001b[1;32m    146\u001b[0m     \u001b[0mmd5\u001b[0m \u001b[0;34m=\u001b[0m \u001b[0marchive_meta\u001b[0m\u001b[0;34m[\u001b[0m\u001b[0;36m1\u001b[0m\u001b[0;34m]\u001b[0m\u001b[0;34m\u001b[0m\u001b[0;34m\u001b[0m\u001b[0m\n\u001b[1;32m    147\u001b[0m \u001b[0;34m\u001b[0m\u001b[0m\n\u001b[0;32m--> 148\u001b[0;31m     \u001b[0m_verify_archive\u001b[0m\u001b[0;34m(\u001b[0m\u001b[0mroot\u001b[0m\u001b[0;34m,\u001b[0m \u001b[0mfile\u001b[0m\u001b[0;34m,\u001b[0m \u001b[0mmd5\u001b[0m\u001b[0;34m)\u001b[0m\u001b[0;34m\u001b[0m\u001b[0;34m\u001b[0m\u001b[0m\n\u001b[0m\u001b[1;32m    149\u001b[0m \u001b[0;34m\u001b[0m\u001b[0m\n\u001b[1;32m    150\u001b[0m     \u001b[0;32mwith\u001b[0m \u001b[0mget_tmp_dir\u001b[0m\u001b[0;34m(\u001b[0m\u001b[0;34m)\u001b[0m \u001b[0;32mas\u001b[0m \u001b[0mtmp_dir\u001b[0m\u001b[0;34m:\u001b[0m\u001b[0;34m\u001b[0m\u001b[0;34m\u001b[0m\u001b[0m\n",
      "\u001b[0;32m/Library/Frameworks/Python.framework/Versions/3.8/lib/python3.8/site-packages/torchvision/datasets/imagenet.py\u001b[0m in \u001b[0;36m_verify_archive\u001b[0;34m(root, file, md5)\u001b[0m\n\u001b[1;32m    100\u001b[0m         msg = (\"The archive {} is not present in the root directory or is corrupted. \"\n\u001b[1;32m    101\u001b[0m                \"You need to download it externally and place it in {}.\")\n\u001b[0;32m--> 102\u001b[0;31m         \u001b[0;32mraise\u001b[0m \u001b[0mRuntimeError\u001b[0m\u001b[0;34m(\u001b[0m\u001b[0mmsg\u001b[0m\u001b[0;34m.\u001b[0m\u001b[0mformat\u001b[0m\u001b[0;34m(\u001b[0m\u001b[0mfile\u001b[0m\u001b[0;34m,\u001b[0m \u001b[0mroot\u001b[0m\u001b[0;34m)\u001b[0m\u001b[0;34m)\u001b[0m\u001b[0;34m\u001b[0m\u001b[0;34m\u001b[0m\u001b[0m\n\u001b[0m\u001b[1;32m    103\u001b[0m \u001b[0;34m\u001b[0m\u001b[0m\n\u001b[1;32m    104\u001b[0m \u001b[0;34m\u001b[0m\u001b[0m\n",
      "\u001b[0;31mRuntimeError\u001b[0m: The archive ILSVRC2012_devkit_t12.tar.gz is not present in the root directory or is corrupted. You need to download it externally and place it in ./data."
     ]
    }
   ],
   "source": [
    "# Imagenet Dataset\n",
    "path = './data' # data folder \n",
    "trainset = dsets.ImageNet(root=path, train=True,\n",
    "                               transform=transform_train, download=False)\n",
    "# validset = dsets.ImageNet(root=path, train=True,\n",
    "#                                     transform=transform_valid, download=False)\n",
    "testset = dsets.ImageNet(root=path, train=False,\n",
    "                              transform=transform_test, download=False)\n",
    "\n",
    "num_train = len(trainset)\n",
    "indices = list(range(num_train))\n",
    "split = int(np.floor(validation_ratio * num_train))\n",
    "\n",
    "if shuffle_dataset:\n",
    "    np.random.seed()"
   ]
  },
  {
   "cell_type": "code",
   "execution_count": null,
   "metadata": {},
   "outputs": [],
   "source": [
    "# preprocessing : mean subtraction from image pixel\n",
    "X -= np.mean(X)"
   ]
  },
  {
   "cell_type": "markdown",
   "metadata": {},
   "source": [
    "### parameters"
   ]
  },
  {
   "cell_type": "code",
   "execution_count": 2,
   "metadata": {},
   "outputs": [],
   "source": [
    "# weight initialization for configuration A\n",
    "def init_weights(net):\n",
    "    if type(net) == nn.Linear:\n",
    "        nn.init.normal_(net.weight, mean=0.0, std = 0.1)\n",
    "        net.bias.data.fill_(0.0)\n",
    "    if type(net) == nn.Conv2d:\n",
    "        nn.init.normal_(net.weight, mean=0.0, std=0.1)\n",
    "        net.bias.data.fill_(0.0)"
   ]
  },
  {
   "cell_type": "markdown",
   "metadata": {
    "id": "GNmQubQc1kCM"
   },
   "source": [
    "### ! need preprocessing stage"
   ]
  },
  {
   "cell_type": "code",
   "execution_count": 8,
   "metadata": {
    "id": "8fTxbspI1kCM"
   },
   "outputs": [],
   "source": [
    "# VGG16 configuration A\n",
    "class VGG16_A(nn.Module):\n",
    "    def __init__(self, dropout_ratio=0.5):\n",
    "        super(VGG16_A, self).__init__()\n",
    "        # input is 32x32 RGB image 3@32x32\n",
    "        self.relu = nn.ReLU()\n",
    "        self.maxpool = nn.MaxPool2d(kernel_size=2, stride=2)\n",
    "        self.dropout = True\n",
    "        self.dropout_ratio = dropout_ratio\n",
    "        \n",
    "        # convolutional layers (with ReLU and MaxPooling)\n",
    "        self.conv1 = nn.Sequential(\n",
    "            nn.Conv2d(3, 64, kernel_size = 3, stride=1, padding=1), # 64@32x32\n",
    "            self.relu,\n",
    "            self.maxpool) # 64@16x16\n",
    "        \n",
    "        self.conv2 = nn.Sequential(\n",
    "            nn.Conv2d(64, 128, kernel_size = 3, stride=1, padding=1), # 128@16x16\n",
    "            self.relu,\n",
    "            self.maxpool) #128@8x8\n",
    "        \n",
    "        self.conv3 = nn.Sequential(\n",
    "            nn.Conv2d(128, 256, kernel_size = 3, stride=1, padding=1), # 256@8x8\n",
    "            self.relu,\n",
    "            nn.Conv2d(256, 256, kernel_size=3, stride=1, padding=1), # 256@8x8\n",
    "            self.relu,\n",
    "            self.maxpool) # 256@4x4\n",
    "        \n",
    "        self.conv4 = nn.Sequential(\n",
    "            nn.Conv2d(256, 512, kernel_size=3, stride=1, padding=1), # 512@4x4\n",
    "            self.relu,\n",
    "            nn.Conv2d(512, 512, kernel_size=3, stride=1, padding=1), # 512@4x4\n",
    "            self.relu,\n",
    "            self.maxpool) #512@2x2\n",
    "        \n",
    "        self.conv5 = nn.Sequential(\n",
    "            nn.Conv2d(512, 512, kernel_size=3, stride=1, padding=1), # 512@2x2\n",
    "            self.relu,\n",
    "            nn.Conv2d(512, 512, kernel_size=3, stride=1, padding=1), # 512@2x2\n",
    "            self.relu,\n",
    "            self.maxpool) # 512@1x1\n",
    "        \n",
    "        # Fully Connected Layers\n",
    "        self.fc1 = nn.Linear(512,4096)\n",
    "        self.fc2 = nn.Linear(4096,4096)\n",
    "        self.fc3 = nn.Linear(4096,1000)\n",
    "        \n",
    "        # Dropout Module\n",
    "        self.drop_layer = nn.Dropout(p=self.dropout_ratio)\n",
    "        \n",
    "        # fully connected module\n",
    "        self.fc_module_train = nn.Sequential(\n",
    "            self.fc1,\n",
    "            self.drop_layer,\n",
    "            self.relu,\n",
    "            self.fc2,\n",
    "            self.drop_layer,\n",
    "            self.relu,\n",
    "            self.fc3\n",
    "        )\n",
    "        \n",
    "        self.fc_module_eval = nn.Sequential(\n",
    "            self.fc1,\n",
    "            self.relu,\n",
    "            self.fc2,\n",
    "            self.relu,\n",
    "            self.fc3\n",
    "        )  \n",
    "        \n",
    "    def forward(self, x):\n",
    "        out = self.conv1(x)\n",
    "        out = self.conv2(out)\n",
    "        out = self.conv3(out)\n",
    "        out = self.conv4(out)\n",
    "        out = self.conv5(out)\n",
    "        \n",
    "        if self.dropout:\n",
    "            out = self.fc_module_train(out)\n",
    "        else:\n",
    "            out = self.fc_module_eval(out)\n",
    "        \n",
    "        # soft-max layer\n",
    "        out = F.softmax(out, dim=1)\n",
    "        return out\n",
    "    \n",
    "    def train():\n",
    "        self.dropout = True\n",
    "        \n",
    "    def evaluate():\n",
    "        self.dropout = False"
   ]
  },
  {
   "cell_type": "code",
   "execution_count": 7,
   "metadata": {
    "id": "RW87XXGC1kCN"
   },
   "outputs": [],
   "source": [
    "# VGG16 configuration D\n",
    "class VGG16_D(nn.Module):\n",
    "    def __init__(self):\n",
    "        super(VGG16_D, self).__init__()\n",
    "        # input is 32x32 RGB image 3@32x32\n",
    "        self.relu = nn.ReLU()\n",
    "        self.maxpool = nn.MaxPool2d(kernel_size=2, stride=2)\n",
    "        \n",
    "        # convolutional layers (with ReLU and MaxPooling)\n",
    "        self.layer1 = nn.Sequential(\n",
    "            nn.Conv2d(3, 64, kernel_size = 3, stride=1, padding=1), # 64@32x32\n",
    "            self.relu,\n",
    "            nn.Conv2d(64, 64, kernel_size=3, stride=1, padding=1), # 64@32x32\n",
    "            self.relu,\n",
    "            self.maxpool) # 64@16x16\n",
    "        \n",
    "        self.layer2 = nn.Sequential(\n",
    "            nn.Conv2d(64, 128, kernel_size = 3, stride=1, padding=1), # 128@16x16\n",
    "            self.relu,\n",
    "            nn.Conv2d(128,128, kernel_size=3, stride=1, padding=1), # 128@16x16\n",
    "            self.relu,\n",
    "            self.maxpool) #128@8x8\n",
    "        \n",
    "        self.layer3 = nn.Sequential(\n",
    "            nn.Conv2d(128, 256, kernel_size = 3, stride=1, padding=1), # 256@8x8\n",
    "            self.relu,\n",
    "            nn.Conv2d(256, 256, kernel_size=3, stride=1, padding=1), # 256@8x8\n",
    "            self.relu,\n",
    "            nn.Conv2d(256, 256, kernel_size=3, stride=1, padding=1), # 256@8x8\n",
    "            self.relu,\n",
    "            self.maxpool) # 256@4x4\n",
    "        \n",
    "        self.layer4 = nn.Sequential(\n",
    "            nn.Conv2d(256, 512, kernel_size=3, stride=1, padding=1), # 512@4x4\n",
    "            self.relu,\n",
    "            nn.Conv2d(512, 512, kernel_size=3, stride=1, padding=1), # 512@4x4\n",
    "            self.relu,\n",
    "            nn.Conv2d(512, 512, kernel_size=3, stride=1, padding=1), # 512@4x4\n",
    "            self.relu,\n",
    "            self.maxpool) #512@2x2\n",
    "        \n",
    "        self.layer5 = nn.Sequential(\n",
    "            nn.Conv2d(512, 512, kernel_size=3, stride=1, padding=1), # 512@2x2\n",
    "            self.relu,\n",
    "            nn.Conv2d(512, 512, kernel_size=3, stride=1, padding=1), # 512@2x2\n",
    "            self.relu,\n",
    "            nn.Conv2d(512, 512, kernel_size=3, stride=1, padding=1), # 512@2x2\n",
    "            self.relu,\n",
    "            self.maxpool) # 512@1x1\n",
    "        \n",
    "        # Fully Connected Layers\n",
    "        self.fc1 = nn.Linear(512,4096)\n",
    "        self.fc2 = nn.Linear(4096,4096)\n",
    "        self.fc3 = nn.Linear(4096,1000)\n",
    "        \n",
    "        # Dropout Module\n",
    "        self.drop_layer = nn.Dropout(p=self.dropout_ratio)\n",
    "        \n",
    "        # fully connected module\n",
    "        self.fc_module_train = nn.Sequential(\n",
    "            self.fc1,\n",
    "            self.drop_layer,\n",
    "            self.relu,\n",
    "            self.fc2,\n",
    "            self.drop_layer,\n",
    "            self.relu,\n",
    "            self.fc3\n",
    "        )\n",
    "        \n",
    "        self.fc_module_eval = nn.Sequential(\n",
    "            self.fc1,\n",
    "            self.relu,\n",
    "            self.fc2,\n",
    "            self.relu,\n",
    "            self.fc3\n",
    "        )  \n",
    "        \n",
    "    def forward(self, x):\n",
    "        out = self.conv1(x)\n",
    "        out = self.conv2(out)\n",
    "        out = self.conv3(out)\n",
    "        out = self.conv4(out)\n",
    "        out = self.conv5(out)\n",
    "        \n",
    "        if self.dropout:\n",
    "            out = self.fc_module_train(out)\n",
    "        else:\n",
    "            out = self.fc_module_eval(out)\n",
    "        \n",
    "        # soft-max layer\n",
    "        out = F.softmax(out, dim=1)\n",
    "        return out\n",
    "    \n",
    "    def train():\n",
    "        self.dropout = True\n",
    "        \n",
    "    def evaluate():\n",
    "        self.dropout = False"
   ]
  },
  {
   "cell_type": "markdown",
   "metadata": {
    "id": "GMxnHu7T1kCL"
   },
   "source": [
    "### set device to cuda and set random seed for reproducibility"
   ]
  },
  {
   "cell_type": "markdown",
   "metadata": {
    "id": "PiPLouS_61AG"
   },
   "source": [
    "use GPU"
   ]
  },
  {
   "cell_type": "code",
   "execution_count": 16,
   "metadata": {
    "id": "vxl8vn6v6HW1"
   },
   "outputs": [
    {
     "data": {
      "text/plain": [
       "VGG16_A(\n",
       "  (relu): ReLU()\n",
       "  (maxpool): MaxPool2d(kernel_size=2, stride=2, padding=0, dilation=1, ceil_mode=False)\n",
       "  (conv1): Sequential(\n",
       "    (0): Conv2d(3, 64, kernel_size=(3, 3), stride=(1, 1), padding=(1, 1))\n",
       "    (1): ReLU()\n",
       "    (2): MaxPool2d(kernel_size=2, stride=2, padding=0, dilation=1, ceil_mode=False)\n",
       "  )\n",
       "  (conv2): Sequential(\n",
       "    (0): Conv2d(64, 128, kernel_size=(3, 3), stride=(1, 1), padding=(1, 1))\n",
       "    (1): ReLU()\n",
       "    (2): MaxPool2d(kernel_size=2, stride=2, padding=0, dilation=1, ceil_mode=False)\n",
       "  )\n",
       "  (conv3): Sequential(\n",
       "    (0): Conv2d(128, 256, kernel_size=(3, 3), stride=(1, 1), padding=(1, 1))\n",
       "    (1): ReLU()\n",
       "    (2): Conv2d(256, 256, kernel_size=(3, 3), stride=(1, 1), padding=(1, 1))\n",
       "    (3): ReLU()\n",
       "    (4): MaxPool2d(kernel_size=2, stride=2, padding=0, dilation=1, ceil_mode=False)\n",
       "  )\n",
       "  (conv4): Sequential(\n",
       "    (0): Conv2d(256, 512, kernel_size=(3, 3), stride=(1, 1), padding=(1, 1))\n",
       "    (1): ReLU()\n",
       "    (2): Conv2d(512, 512, kernel_size=(3, 3), stride=(1, 1), padding=(1, 1))\n",
       "    (3): ReLU()\n",
       "    (4): MaxPool2d(kernel_size=2, stride=2, padding=0, dilation=1, ceil_mode=False)\n",
       "  )\n",
       "  (conv5): Sequential(\n",
       "    (0): Conv2d(512, 512, kernel_size=(3, 3), stride=(1, 1), padding=(1, 1))\n",
       "    (1): ReLU()\n",
       "    (2): Conv2d(512, 512, kernel_size=(3, 3), stride=(1, 1), padding=(1, 1))\n",
       "    (3): ReLU()\n",
       "    (4): MaxPool2d(kernel_size=2, stride=2, padding=0, dilation=1, ceil_mode=False)\n",
       "  )\n",
       "  (fc1): Linear(in_features=512, out_features=4096, bias=True)\n",
       "  (fc2): Linear(in_features=4096, out_features=4096, bias=True)\n",
       "  (fc3): Linear(in_features=4096, out_features=1000, bias=True)\n",
       "  (fc_module): Sequential(\n",
       "    (0): Linear(in_features=512, out_features=4096, bias=True)\n",
       "    (1): ReLU()\n",
       "    (2): Linear(in_features=4096, out_features=4096, bias=True)\n",
       "    (3): ReLU()\n",
       "    (4): Linear(in_features=4096, out_features=1000, bias=True)\n",
       "  )\n",
       ")"
      ]
     },
     "execution_count": 16,
     "metadata": {},
     "output_type": "execute_result"
    }
   ],
   "source": [
    "model = VGG16_A()\n",
    "model.apply(init_weights)\n",
    "if torch.cuda.device_count() > 1:\n",
    "    model = nn.DataParallel(model)\n",
    "model.to(device)"
   ]
  },
  {
   "cell_type": "markdown",
   "metadata": {
    "id": "dqSepnb61kCN"
   },
   "source": [
    "### Define a Loss Function and Optimizer\n",
    "\n",
    "Optimizer : \n",
    "1. multinomial logistic regression \n",
    "2. mini-batch gradient descent \n",
    "3. batch size = 256\n",
    "4. momentum = 0.9 \n",
    "5. weight decay (L2 penalty multiplier set to 5 * 10^-4) - first two fully-connected layer\n",
    "6. dropout = 0.5 - first two fully-connected layer\n",
    "7. learning rate : initial 0.01 decreased by a factor of 10 when the validation set accuracy stopped improving"
   ]
  },
  {
   "cell_type": "code",
   "execution_count": null,
   "metadata": {
    "id": "HHulwTUB1kCO"
   },
   "outputs": [],
   "source": [
    "# parameters\n",
    "# batch_size = 256\n",
    "momentum = 0.9\n",
    "init_lr = 1e-2 # initial learning rate\n",
    "epochs = 74 # total epoch number\n",
    "dropout_ratio = 0.5"
   ]
  },
  {
   "cell_type": "markdown",
   "metadata": {
    "id": "ZXuhk2hX1kCO"
   },
   "source": [
    "# Training"
   ]
  },
  {
   "cell_type": "code",
   "execution_count": null,
   "metadata": {},
   "outputs": [],
   "source": [
    "loss_function = nn.MSELoss()\n",
    "optimizer = optim.SGD(model.parameters(), lr=init_lr, momentum=momentum, weight_decay=5e-4)\n",
    "lr_scheduler = optim.lr_scheduler.ReduceLROnPlateau(optimizer, mode='max', factor=0.1, verbose=True)"
   ]
  },
  {
   "cell_type": "code",
   "execution_count": null,
   "metadata": {
    "id": "__72DRlB1kCO"
   },
   "outputs": [],
   "source": [
    "for epoch in range(epochs):\n",
    "    # train\n",
    "    \n",
    "    # validation\n",
    "    \n",
    "    # scheduler.step(accuracy)\n",
    "    "
   ]
  },
  {
   "cell_type": "markdown",
   "metadata": {
    "id": "j8mdQJeI1kCO"
   },
   "source": [
    "# Test"
   ]
  },
  {
   "cell_type": "code",
   "execution_count": null,
   "metadata": {
    "id": "MMKf1aYn1kCP"
   },
   "outputs": [],
   "source": []
  }
 ],
 "metadata": {
  "colab": {
   "collapsed_sections": [],
   "name": "vgg16.ipynb",
   "provenance": []
  },
  "kernelspec": {
   "display_name": "Python 3",
   "language": "python",
   "name": "python3"
  },
  "language_info": {
   "codemirror_mode": {
    "name": "ipython",
    "version": 3
   },
   "file_extension": ".py",
   "mimetype": "text/x-python",
   "name": "python",
   "nbconvert_exporter": "python",
   "pygments_lexer": "ipython3",
   "version": "3.8.3"
  }
 },
 "nbformat": 4,
 "nbformat_minor": 1
}
